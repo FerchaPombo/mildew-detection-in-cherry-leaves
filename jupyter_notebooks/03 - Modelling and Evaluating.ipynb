{
  "cells": [
    {
      "cell_type": "markdown",
      "metadata": {
        "id": "0aStgWSO0E0E"
      },
      "source": [
        "# **** Modeling and Evaluation Notebook"
      ]
    },
    {
      "cell_type": "markdown",
      "metadata": {
        "id": "1eLEkw5O0ECa"
      },
      "source": [
        "## Objectives\n",
        "\n",
        "* Answering Business requirement 2 : \n",
        "        *Predict whether a leaf is infected with powdery mildew or not. \n",
        "\n",
        "## Inputs\n",
        "\n",
        "*  Client will input images of leaves from the following datasets : <br/>\n",
        "    ** inputs/cherry-leaves_dataset/cherry-leaves/train<br/>\n",
        "    ** inputs/cherry-leaves_dataset/cherry-leaves/validation <br/>\n",
        "    ** inputs/cherry-leaves_dataset/cherry-leaves/test <br/> \n",
        "    ** image shape embeddings\n",
        "\n",
        "## Outputs\n",
        "\n",
        "* Generate images distribution plot in train, validation, and test set\n",
        "* Perform image augmentation when needed\n",
        "* Class indices to change prediction inference in labels\n",
        "* Machine learning model creation and training\n",
        "* Saved model\n",
        "* Learning curve plot for model performance\n",
        "* Model evaluation on pickle file\n",
        "* Prediction on the random image file\n",
        "\n",
        "## Additional Comments\n",
        "\n",
        "* In case you have any additional comments that don't fit in the previous bullets, please state them here. \n",
        "\n"
      ]
    },
    {
      "cell_type": "markdown",
      "metadata": {
        "id": "9uWZXH9LwoQg"
      },
      "source": [
        "---"
      ]
    },
    {
      "cell_type": "markdown",
      "metadata": {},
      "source": [
        "## Import regular packages "
      ]
    },
    {
      "cell_type": "code",
      "execution_count": 1,
      "metadata": {},
      "outputs": [],
      "source": [
        "import os\n",
        "import pandas as pd\n",
        "import numpy as np\n",
        "import matplotlib.pyplot as plt\n",
        "import seaborn as sns\n",
        "from matplotlib.image import imread"
      ]
    },
    {
      "cell_type": "markdown",
      "metadata": {
        "id": "cqP-UeN-z3i2"
      },
      "source": [
        "## Change working directory"
      ]
    },
    {
      "cell_type": "markdown",
      "metadata": {},
      "source": [
        "* Since we are storing the notebooks in a subfolder, we change the working directory."
      ]
    },
    {
      "cell_type": "code",
      "execution_count": 2,
      "metadata": {
        "id": "wZfF_j-Bz3i4",
        "outputId": "66943449-1436-4c3d-85c7-b85f9f78349b"
      },
      "outputs": [
        {
          "name": "stdout",
          "output_type": "stream",
          "text": [
            "You set a new current directory\n"
          ]
        }
      ],
      "source": [
        "import os\n",
        "current_dir = os.getcwd()\n",
        "current_dir\n",
        "os.chdir('/workspace/mildew-detection-in-cherry-leaves')\n",
        "print(\"You set a new current directory\")"
      ]
    },
    {
      "cell_type": "markdown",
      "metadata": {
        "id": "M_xPk_Ijz3i-"
      },
      "source": [
        "Confirm the new current directory"
      ]
    },
    {
      "cell_type": "code",
      "execution_count": 3,
      "metadata": {
        "id": "vz3S-_kjz3jA",
        "outputId": "00b79ae4-75d0-4a96-d193-ac9ef9847ea2"
      },
      "outputs": [
        {
          "data": {
            "text/plain": [
              "'/workspace/mildew-detection-in-cherry-leaves'"
            ]
          },
          "execution_count": 3,
          "metadata": {},
          "output_type": "execute_result"
        }
      ],
      "source": [
        "current_dir = os.getcwd()\n",
        "current_dir"
      ]
    },
    {
      "cell_type": "markdown",
      "metadata": {},
      "source": [
        "## Set input directories "
      ]
    },
    {
      "cell_type": "markdown",
      "metadata": {},
      "source": [
        "Set Train, Validation and Test Set"
      ]
    },
    {
      "cell_type": "code",
      "execution_count": 4,
      "metadata": {},
      "outputs": [],
      "source": [
        "my_data_dir = 'inputs/cherry-leaves_dataset/cherry-leaves'\n",
        "train_path = my_data_dir + '/train'\n",
        "val_path = my_data_dir + '/validation'\n",
        "test_path = my_data_dir + '/test'"
      ]
    },
    {
      "cell_type": "markdown",
      "metadata": {},
      "source": [
        "Set output directory "
      ]
    },
    {
      "cell_type": "code",
      "execution_count": 5,
      "metadata": {},
      "outputs": [
        {
          "name": "stdout",
          "output_type": "stream",
          "text": [
            "Old Version is already available, create a new version.\n"
          ]
        }
      ],
      "source": [
        "import os\n",
        "version = 'v1'\n",
        "file_path = f'outputs/{version}'\n",
        "\n",
        "if 'outputs' in os.listdir(current_dir) and version in os.listdir(current_dir + '/outputs'):\n",
        "    print('Old Version is already available, create a new version.')\n",
        "    pass\n",
        "else:\n",
        "    os.makedirs(name=file_path)"
      ]
    },
    {
      "cell_type": "markdown",
      "metadata": {},
      "source": [
        "Set Labels"
      ]
    },
    {
      "cell_type": "code",
      "execution_count": 6,
      "metadata": {},
      "outputs": [
        {
          "name": "stdout",
          "output_type": "stream",
          "text": [
            "Project Labels: ['healthy', 'powdery_mildew']\n"
          ]
        }
      ],
      "source": [
        "labels = os.listdir(train_path)\n",
        "\n",
        "print(\n",
        "    f\"Project Labels: {labels}\"\n",
        "    )"
      ]
    },
    {
      "cell_type": "markdown",
      "metadata": {},
      "source": [
        "Set image shape "
      ]
    },
    {
      "cell_type": "code",
      "execution_count": 7,
      "metadata": {},
      "outputs": [
        {
          "data": {
            "text/plain": [
              "(256, 256, 3)"
            ]
          },
          "execution_count": 7,
          "metadata": {},
          "output_type": "execute_result"
        }
      ],
      "source": [
        "import joblib\n",
        "version = 'v1'\n",
        "image_shape = joblib.load(filename=f\"outputs/{version}/image_shape.pk1\")\n",
        "image_shape"
      ]
    },
    {
      "cell_type": "markdown",
      "metadata": {
        "id": "-mavJ8DibrcQ"
      },
      "source": [
        "# Number of images in train, test and validation data"
      ]
    },
    {
      "cell_type": "markdown",
      "metadata": {},
      "source": [
        "Calculate the quantity of images in each set by generating a bar graph and save the resulting plot in the '/output/' directory."
      ]
    },
    {
      "cell_type": "code",
      "execution_count": 23,
      "metadata": {},
      "outputs": [
        {
          "name": "stdout",
          "output_type": "stream",
          "text": [
            "* train - healthy: 422 images\n",
            "* train - powdery_mildew: 422 images\n",
            "* validation - healthy: 422 images\n",
            "* validation - powdery_mildew: 422 images\n",
            "* test - healthy: 422 images\n",
            "* test - powdery_mildew: 422 images\n",
            "/\n"
          ]
        },
        {
          "ename": "ValueError",
          "evalue": "Could not interpret input 'Frecuency'",
          "output_type": "error",
          "traceback": [
            "\u001b[0;31m---------------------------------------------------------------------------\u001b[0m",
            "\u001b[0;31mValueError\u001b[0m                                Traceback (most recent call last)",
            "\u001b[1;32m/workspace/mildew-detection-in-cherry-leaves/jupyter_notebooks/03 - Modelling and Evaluating.ipynb Cell 22\u001b[0m line \u001b[0;36m1\n\u001b[1;32m     <a href='vscode-notebook-cell://ferchapombo-mildewdetec-xhdv0yxx5f0.ws-us108.gitpod.io/workspace/mildew-detection-in-cherry-leaves/jupyter_notebooks/03%20-%20Modelling%20and%20Evaluating.ipynb#X16sdnNjb2RlLXJlbW90ZQ%3D%3D?line=14'>15</a>\u001b[0m sns\u001b[39m.\u001b[39mset_style(\u001b[39m'\u001b[39m\u001b[39mdarkgrid\u001b[39m\u001b[39m'\u001b[39m)\n\u001b[1;32m     <a href='vscode-notebook-cell://ferchapombo-mildewdetec-xhdv0yxx5f0.ws-us108.gitpod.io/workspace/mildew-detection-in-cherry-leaves/jupyter_notebooks/03%20-%20Modelling%20and%20Evaluating.ipynb#X16sdnNjb2RlLXJlbW90ZQ%3D%3D?line=15'>16</a>\u001b[0m plt\u001b[39m.\u001b[39mfigure(figsize\u001b[39m=\u001b[39m(\u001b[39m8\u001b[39m,\u001b[39m5\u001b[39m))\n\u001b[0;32m---> <a href='vscode-notebook-cell://ferchapombo-mildewdetec-xhdv0yxx5f0.ws-us108.gitpod.io/workspace/mildew-detection-in-cherry-leaves/jupyter_notebooks/03%20-%20Modelling%20and%20Evaluating.ipynb#X16sdnNjb2RlLXJlbW90ZQ%3D%3D?line=16'>17</a>\u001b[0m sns\u001b[39m.\u001b[39;49mbarplot(data\u001b[39m=\u001b[39;49mdf_freq, x\u001b[39m=\u001b[39;49m\u001b[39m'\u001b[39;49m\u001b[39mSet\u001b[39;49m\u001b[39m'\u001b[39;49m, y\u001b[39m=\u001b[39;49m\u001b[39m'\u001b[39;49m\u001b[39mFrecuency\u001b[39;49m\u001b[39m'\u001b[39;49m, hue\u001b[39m=\u001b[39;49m\u001b[39m'\u001b[39;49m\u001b[39mLabel\u001b[39;49m\u001b[39m'\u001b[39;49m)\n\u001b[1;32m     <a href='vscode-notebook-cell://ferchapombo-mildewdetec-xhdv0yxx5f0.ws-us108.gitpod.io/workspace/mildew-detection-in-cherry-leaves/jupyter_notebooks/03%20-%20Modelling%20and%20Evaluating.ipynb#X16sdnNjb2RlLXJlbW90ZQ%3D%3D?line=17'>18</a>\u001b[0m plt\u001b[39m.\u001b[39msavefig(\u001b[39mf\u001b[39m\u001b[39m\"\u001b[39m\u001b[39m{\u001b[39;00mfilepath\u001b[39m}\u001b[39;00m\u001b[39m/labels_distribution.png\u001b[39m\u001b[39m\"\u001b[39m, bbox_inches\u001b[39m=\u001b[39m\u001b[39m'\u001b[39m\u001b[39mtight\u001b[39m\u001b[39m'\u001b[39m,dpi\u001b[39m=\u001b[39m\u001b[39m200\u001b[39m)\n\u001b[1;32m     <a href='vscode-notebook-cell://ferchapombo-mildewdetec-xhdv0yxx5f0.ws-us108.gitpod.io/workspace/mildew-detection-in-cherry-leaves/jupyter_notebooks/03%20-%20Modelling%20and%20Evaluating.ipynb#X16sdnNjb2RlLXJlbW90ZQ%3D%3D?line=18'>19</a>\u001b[0m plt\u001b[39m.\u001b[39mshow()\n",
            "File \u001b[0;32m~/.pyenv/versions/3.8.18/lib/python3.8/site-packages/seaborn/_decorators.py:46\u001b[0m, in \u001b[0;36m_deprecate_positional_args.<locals>.inner_f\u001b[0;34m(*args, **kwargs)\u001b[0m\n\u001b[1;32m     36\u001b[0m     warnings\u001b[39m.\u001b[39mwarn(\n\u001b[1;32m     37\u001b[0m         \u001b[39m\"\u001b[39m\u001b[39mPass the following variable\u001b[39m\u001b[39m{}\u001b[39;00m\u001b[39m as \u001b[39m\u001b[39m{}\u001b[39;00m\u001b[39mkeyword arg\u001b[39m\u001b[39m{}\u001b[39;00m\u001b[39m: \u001b[39m\u001b[39m{}\u001b[39;00m\u001b[39m. \u001b[39m\u001b[39m\"\u001b[39m\n\u001b[1;32m     38\u001b[0m         \u001b[39m\"\u001b[39m\u001b[39mFrom version 0.12, the only valid positional argument \u001b[39m\u001b[39m\"\u001b[39m\n\u001b[0;32m   (...)\u001b[0m\n\u001b[1;32m     43\u001b[0m         \u001b[39mFutureWarning\u001b[39;00m\n\u001b[1;32m     44\u001b[0m     )\n\u001b[1;32m     45\u001b[0m kwargs\u001b[39m.\u001b[39mupdate({k: arg \u001b[39mfor\u001b[39;00m k, arg \u001b[39min\u001b[39;00m \u001b[39mzip\u001b[39m(sig\u001b[39m.\u001b[39mparameters, args)})\n\u001b[0;32m---> 46\u001b[0m \u001b[39mreturn\u001b[39;00m f(\u001b[39m*\u001b[39;49m\u001b[39m*\u001b[39;49mkwargs)\n",
            "File \u001b[0;32m~/.pyenv/versions/3.8.18/lib/python3.8/site-packages/seaborn/categorical.py:3169\u001b[0m, in \u001b[0;36mbarplot\u001b[0;34m(x, y, hue, data, order, hue_order, estimator, ci, n_boot, units, seed, orient, color, palette, saturation, errcolor, errwidth, capsize, dodge, ax, **kwargs)\u001b[0m\n\u001b[1;32m   3156\u001b[0m \u001b[39m@_deprecate_positional_args\u001b[39m\n\u001b[1;32m   3157\u001b[0m \u001b[39mdef\u001b[39;00m \u001b[39mbarplot\u001b[39m(\n\u001b[1;32m   3158\u001b[0m     \u001b[39m*\u001b[39m,\n\u001b[0;32m   (...)\u001b[0m\n\u001b[1;32m   3166\u001b[0m     \u001b[39m*\u001b[39m\u001b[39m*\u001b[39mkwargs,\n\u001b[1;32m   3167\u001b[0m ):\n\u001b[0;32m-> 3169\u001b[0m     plotter \u001b[39m=\u001b[39m _BarPlotter(x, y, hue, data, order, hue_order,\n\u001b[1;32m   3170\u001b[0m                           estimator, ci, n_boot, units, seed,\n\u001b[1;32m   3171\u001b[0m                           orient, color, palette, saturation,\n\u001b[1;32m   3172\u001b[0m                           errcolor, errwidth, capsize, dodge)\n\u001b[1;32m   3174\u001b[0m     \u001b[39mif\u001b[39;00m ax \u001b[39mis\u001b[39;00m \u001b[39mNone\u001b[39;00m:\n\u001b[1;32m   3175\u001b[0m         ax \u001b[39m=\u001b[39m plt\u001b[39m.\u001b[39mgca()\n",
            "File \u001b[0;32m~/.pyenv/versions/3.8.18/lib/python3.8/site-packages/seaborn/categorical.py:1584\u001b[0m, in \u001b[0;36m_BarPlotter.__init__\u001b[0;34m(self, x, y, hue, data, order, hue_order, estimator, ci, n_boot, units, seed, orient, color, palette, saturation, errcolor, errwidth, capsize, dodge)\u001b[0m\n\u001b[1;32m   1579\u001b[0m \u001b[39mdef\u001b[39;00m \u001b[39m__init__\u001b[39m(\u001b[39mself\u001b[39m, x, y, hue, data, order, hue_order,\n\u001b[1;32m   1580\u001b[0m              estimator, ci, n_boot, units, seed,\n\u001b[1;32m   1581\u001b[0m              orient, color, palette, saturation, errcolor,\n\u001b[1;32m   1582\u001b[0m              errwidth, capsize, dodge):\n\u001b[1;32m   1583\u001b[0m \u001b[39m    \u001b[39m\u001b[39m\"\"\"Initialize the plotter.\"\"\"\u001b[39;00m\n\u001b[0;32m-> 1584\u001b[0m     \u001b[39mself\u001b[39;49m\u001b[39m.\u001b[39;49mestablish_variables(x, y, hue, data, orient,\n\u001b[1;32m   1585\u001b[0m                              order, hue_order, units)\n\u001b[1;32m   1586\u001b[0m     \u001b[39mself\u001b[39m\u001b[39m.\u001b[39mestablish_colors(color, palette, saturation)\n\u001b[1;32m   1587\u001b[0m     \u001b[39mself\u001b[39m\u001b[39m.\u001b[39mestimate_statistic(estimator, ci, n_boot, seed)\n",
            "File \u001b[0;32m~/.pyenv/versions/3.8.18/lib/python3.8/site-packages/seaborn/categorical.py:153\u001b[0m, in \u001b[0;36m_CategoricalPlotter.establish_variables\u001b[0;34m(self, x, y, hue, data, orient, order, hue_order, units)\u001b[0m\n\u001b[1;32m    151\u001b[0m     \u001b[39mif\u001b[39;00m \u001b[39misinstance\u001b[39m(var, \u001b[39mstr\u001b[39m):\n\u001b[1;32m    152\u001b[0m         err \u001b[39m=\u001b[39m \u001b[39m\"\u001b[39m\u001b[39mCould not interpret input \u001b[39m\u001b[39m'\u001b[39m\u001b[39m{}\u001b[39;00m\u001b[39m'\u001b[39m\u001b[39m\"\u001b[39m\u001b[39m.\u001b[39mformat(var)\n\u001b[0;32m--> 153\u001b[0m         \u001b[39mraise\u001b[39;00m \u001b[39mValueError\u001b[39;00m(err)\n\u001b[1;32m    155\u001b[0m \u001b[39m# Figure out the plotting orientation\u001b[39;00m\n\u001b[1;32m    156\u001b[0m orient \u001b[39m=\u001b[39m infer_orient(\n\u001b[1;32m    157\u001b[0m     x, y, orient, require_numeric\u001b[39m=\u001b[39m\u001b[39mself\u001b[39m\u001b[39m.\u001b[39mrequire_numeric\n\u001b[1;32m    158\u001b[0m )\n",
            "\u001b[0;31mValueError\u001b[0m: Could not interpret input 'Frecuency'"
          ]
        },
        {
          "data": {
            "text/plain": [
              "<Figure size 800x500 with 0 Axes>"
            ]
          },
          "metadata": {},
          "output_type": "display_data"
        }
      ],
      "source": [
        "df_freq = pd.DataFrame([])\n",
        "for folder in ['train', 'validation', 'test']:\n",
        "  for label in labels:\n",
        "    df_freq = df_freq.append(\n",
        "        pd.Series(data={'Set': folder,\n",
        "                        'Label': label,\n",
        "                        'Frequency':int(len(os.listdir('/workspace/mildew-detection-in-cherry-leaves/inputs/cherry-leaves_dataset/cherry-leaves/test/healthy')))}\n",
        "                        ),\n",
        "                        ignore_index=True\n",
        "        )\n",
        "    print(f\"* {folder} - {label}: {len(os.listdir('/workspace/mildew-detection-in-cherry-leaves/inputs/cherry-leaves_dataset/cherry-leaves/test/healthy'))} images\")\n",
        "\n",
        "  \n",
        "print('/')\n",
        "sns.set_style('darkgrid')\n",
        "plt.figure(figsize=(8,5))\n",
        "sns.barplot(data=df_freq, x='Set', y='Frecuency', hue='Label')\n",
        "plt.savefig(f\"{filepath}/labels_distribution.png\", bbox_inches='tight',dpi=200)\n",
        "plt.show()"
      ]
    },
    {
      "cell_type": "markdown",
      "metadata": {
        "id": "ZY3l0-AxO93d"
      },
      "source": [
        "---"
      ]
    },
    {
      "cell_type": "markdown",
      "metadata": {
        "id": "uFQo3ycuO-v6"
      },
      "source": [
        "# Section 2"
      ]
    },
    {
      "cell_type": "markdown",
      "metadata": {},
      "source": [
        "Section 2 content"
      ]
    },
    {
      "cell_type": "code",
      "execution_count": null,
      "metadata": {},
      "outputs": [],
      "source": []
    },
    {
      "cell_type": "markdown",
      "metadata": {},
      "source": [
        "---"
      ]
    },
    {
      "cell_type": "markdown",
      "metadata": {},
      "source": [
        "NOTE"
      ]
    },
    {
      "cell_type": "markdown",
      "metadata": {},
      "source": [
        "* You may add as many sections as you want, as long as it supports your project workflow.\n",
        "* All notebook's cells should be run top-down (you can't create a dynamic wherein a given point you need to go back to a previous cell to execute some task, like go back to a previous cell and refresh a variable content)"
      ]
    },
    {
      "cell_type": "markdown",
      "metadata": {},
      "source": [
        "---"
      ]
    },
    {
      "cell_type": "markdown",
      "metadata": {
        "id": "ltNetd085qHf"
      },
      "source": [
        "# Push files to Repo"
      ]
    },
    {
      "cell_type": "markdown",
      "metadata": {},
      "source": [
        "* If you don't need to push files to Repo, you may replace this section with \"Conclusions and Next Steps\" and state your conclusions and next steps."
      ]
    },
    {
      "cell_type": "code",
      "execution_count": null,
      "metadata": {
        "id": "aKlnIozA4eQO",
        "outputId": "fd09bc1f-adb1-4511-f6ce-492a6af570c0"
      },
      "outputs": [],
      "source": [
        "import os\n",
        "try:\n",
        "    # create here your folder\n",
        "    # os.makedirs(name='')\n",
        "except Exception as e:\n",
        "    print(e)\n"
      ]
    }
  ],
  "metadata": {
    "accelerator": "GPU",
    "colab": {
      "name": "Data Practitioner Jupyter Notebook.ipynb",
      "provenance": [],
      "toc_visible": true
    },
    "interpreter": {
      "hash": "8b8334dab9339717f727a1deaf837b322d7a41c20d15cc86be99a8e69ceec8ce"
    },
    "kernelspec": {
      "display_name": "Python 3.8.12 64-bit ('3.8.12': pyenv)",
      "name": "python3"
    },
    "language_info": {
      "codemirror_mode": {
        "name": "ipython",
        "version": 3
      },
      "file_extension": ".py",
      "mimetype": "text/x-python",
      "name": "python",
      "nbconvert_exporter": "python",
      "pygments_lexer": "ipython3",
      "version": "3.8.18"
    },
    "orig_nbformat": 2
  },
  "nbformat": 4,
  "nbformat_minor": 2
}
